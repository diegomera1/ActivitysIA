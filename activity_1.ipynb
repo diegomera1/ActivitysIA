{
 "cells": [
  {
   "cell_type": "markdown",
   "metadata": {
    "id": "g2fnnazYEkxB"
   },
   "source": [
    "# Crear arreglo de 4 dimensiones ordenados por la edad o nombre"
   ]
  },
  {
   "cell_type": "code",
   "execution_count": 1,
   "metadata": {
    "colab": {
     "base_uri": "https://localhost:8080/"
    },
    "id": "u8k3bY6YEe-9",
    "outputId": "289e177e-3b8e-45df-83d9-4f04d50e9de4"
   },
   "outputs": [
    {
     "data": {
      "text/plain": [
       "4"
      ]
     },
     "execution_count": 1,
     "metadata": {},
     "output_type": "execute_result"
    }
   ],
   "source": [
    "import numpy as np\n",
    "\n",
    "varType = [('nombre', 'S10'), ('edad', int)]\n",
    "data = [('Diego', 24), ('Jose', 24), ('Mario', 11), ('Raul', 19), ('Jaime', 17),('Erick', 20), ('Tadeo', 25),('Luis', 26)]\n",
    "users = np.array([[[data, data]], [[data, data]]], dtype = varType)\n",
    "users.ndim"
   ]
  },
  {
   "cell_type": "markdown",
   "metadata": {
    "id": "8NI-eSohHlUs"
   },
   "source": [
    "### Ordenar por edad"
   ]
  },
  {
   "cell_type": "code",
   "execution_count": 2,
   "metadata": {
    "colab": {
     "base_uri": "https://localhost:8080/"
    },
    "id": "x8X3sXmOHnjC",
    "outputId": "509ad738-cd00-4edd-f0e8-61f5ed80243d"
   },
   "outputs": [
    {
     "data": {
      "text/plain": [
       "array([[[[(b'Mario', 11), (b'Jaime', 17), (b'Raul', 19),\n",
       "          (b'Erick', 20), (b'Diego', 24), (b'Jose', 24),\n",
       "          (b'Tadeo', 25), (b'Luis', 26)],\n",
       "         [(b'Mario', 11), (b'Jaime', 17), (b'Raul', 19),\n",
       "          (b'Erick', 20), (b'Diego', 24), (b'Jose', 24),\n",
       "          (b'Tadeo', 25), (b'Luis', 26)]]],\n",
       "\n",
       "\n",
       "       [[[(b'Mario', 11), (b'Jaime', 17), (b'Raul', 19),\n",
       "          (b'Erick', 20), (b'Diego', 24), (b'Jose', 24),\n",
       "          (b'Tadeo', 25), (b'Luis', 26)],\n",
       "         [(b'Mario', 11), (b'Jaime', 17), (b'Raul', 19),\n",
       "          (b'Erick', 20), (b'Diego', 24), (b'Jose', 24),\n",
       "          (b'Tadeo', 25), (b'Luis', 26)]]]],\n",
       "      dtype=[('nombre', 'S10'), ('edad', '<i4')])"
      ]
     },
     "execution_count": 2,
     "metadata": {},
     "output_type": "execute_result"
    }
   ],
   "source": [
    "np.sort(users, order = 'edad')"
   ]
  },
  {
   "cell_type": "markdown",
   "metadata": {
    "id": "CxG-oZUMH2rv"
   },
   "source": [
    "### Ordernar por nombre"
   ]
  },
  {
   "cell_type": "code",
   "execution_count": 3,
   "metadata": {
    "colab": {
     "base_uri": "https://localhost:8080/"
    },
    "id": "lMstGAe7H4Lr",
    "outputId": "1537bf5e-a71c-4044-b98d-9ad97bd20758"
   },
   "outputs": [
    {
     "data": {
      "text/plain": [
       "array([[[[(b'Diego', 24), (b'Erick', 20), (b'Jaime', 17),\n",
       "          (b'Jose', 24), (b'Luis', 26), (b'Mario', 11), (b'Raul', 19),\n",
       "          (b'Tadeo', 25)],\n",
       "         [(b'Diego', 24), (b'Erick', 20), (b'Jaime', 17),\n",
       "          (b'Jose', 24), (b'Luis', 26), (b'Mario', 11), (b'Raul', 19),\n",
       "          (b'Tadeo', 25)]]],\n",
       "\n",
       "\n",
       "       [[[(b'Diego', 24), (b'Erick', 20), (b'Jaime', 17),\n",
       "          (b'Jose', 24), (b'Luis', 26), (b'Mario', 11), (b'Raul', 19),\n",
       "          (b'Tadeo', 25)],\n",
       "         [(b'Diego', 24), (b'Erick', 20), (b'Jaime', 17),\n",
       "          (b'Jose', 24), (b'Luis', 26), (b'Mario', 11), (b'Raul', 19),\n",
       "          (b'Tadeo', 25)]]]], dtype=[('nombre', 'S10'), ('edad', '<i4')])"
      ]
     },
     "execution_count": 3,
     "metadata": {},
     "output_type": "execute_result"
    }
   ],
   "source": [
    "np.sort(users, order = 'nombre')"
   ]
  },
  {
   "cell_type": "code",
   "execution_count": null,
   "metadata": {},
   "outputs": [],
   "source": []
  }
 ],
 "metadata": {
  "colab": {
   "name": "actividad-1.ipynb",
   "provenance": []
  },
  "kernelspec": {
   "display_name": "Python 3 (ipykernel)",
   "language": "python",
   "name": "python3"
  },
  "language_info": {
   "codemirror_mode": {
    "name": "ipython",
    "version": 3
   },
   "file_extension": ".py",
   "mimetype": "text/x-python",
   "name": "python",
   "nbconvert_exporter": "python",
   "pygments_lexer": "ipython3",
   "version": "3.9.12"
  },
  "vscode": {
   "interpreter": {
    "hash": "e5e6950e623d4582d624e135a1184e8efadbec668f85cbea1d2eb28257370c61"
   }
  }
 },
 "nbformat": 4,
 "nbformat_minor": 1
}
