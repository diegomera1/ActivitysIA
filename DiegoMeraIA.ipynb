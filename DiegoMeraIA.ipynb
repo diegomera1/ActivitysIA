{
  "nbformat": 4,
  "nbformat_minor": 0,
  "metadata": {
    "colab": {
      "provenance": [],
      "authorship_tag": "ABX9TyOGEEODomIfSvxMSLnYsgIO",
      "include_colab_link": true
    },
    "kernelspec": {
      "name": "python3",
      "display_name": "Python 3"
    },
    "language_info": {
      "name": "python"
    }
  },
  "cells": [
    {
      "cell_type": "markdown",
      "metadata": {
        "id": "view-in-github",
        "colab_type": "text"
      },
      "source": [
        "<a href=\"https://colab.research.google.com/github/diegomera1/ActivitysIA/blob/main/DiegoMeraIA.ipynb\" target=\"_parent\"><img src=\"https://colab.research.google.com/assets/colab-badge.svg\" alt=\"Open In Colab\"/></a>"
      ]
    },
    {
      "cell_type": "code",
      "execution_count": 9,
      "metadata": {
        "colab": {
          "base_uri": "https://localhost:8080/"
        },
        "id": "bAqjV_9f-eW3",
        "outputId": "3626c834-d571-42f0-e628-eef10d076c6d"
      },
      "outputs": [
        {
          "output_type": "execute_result",
          "data": {
            "text/plain": [
              "4"
            ]
          },
          "metadata": {},
          "execution_count": 9
        }
      ],
      "source": [
        "import numpy as np\n",
        "\n",
        "varType = [('nombre', 'S10'), ('edad', int)]\n",
        "data = [('Sofia', 25), ('Juan', 23), ('Laura', 21), ('Miguel', 22), ('Pablo', 26),('Ana', 29), ('Rocio', 27),('Mario', 29)]\n",
        "users = np.array([[[data, data]], [[data, data]]], dtype = varType)\n",
        "users.ndim"
      ]
    },
    {
      "cell_type": "markdown",
      "source": [
        "Ordenar por Edad"
      ],
      "metadata": {
        "id": "xu9q0zQMAYNf"
      }
    },
    {
      "cell_type": "code",
      "source": [
        "np.sort(users, order = 'edad')"
      ],
      "metadata": {
        "colab": {
          "base_uri": "https://localhost:8080/"
        },
        "id": "iGXn9AxWAzUp",
        "outputId": "1288cb29-30c7-46b6-e1fa-a08d18717a32"
      },
      "execution_count": 10,
      "outputs": [
        {
          "output_type": "execute_result",
          "data": {
            "text/plain": [
              "array([[[[(b'Laura', 21), (b'Miguel', 22), (b'Juan', 23),\n",
              "          (b'Sofia', 25), (b'Pablo', 26), (b'Rocio', 27), (b'Ana', 29),\n",
              "          (b'Mario', 29)],\n",
              "         [(b'Laura', 21), (b'Miguel', 22), (b'Juan', 23),\n",
              "          (b'Sofia', 25), (b'Pablo', 26), (b'Rocio', 27), (b'Ana', 29),\n",
              "          (b'Mario', 29)]]],\n",
              "\n",
              "\n",
              "       [[[(b'Laura', 21), (b'Miguel', 22), (b'Juan', 23),\n",
              "          (b'Sofia', 25), (b'Pablo', 26), (b'Rocio', 27), (b'Ana', 29),\n",
              "          (b'Mario', 29)],\n",
              "         [(b'Laura', 21), (b'Miguel', 22), (b'Juan', 23),\n",
              "          (b'Sofia', 25), (b'Pablo', 26), (b'Rocio', 27), (b'Ana', 29),\n",
              "          (b'Mario', 29)]]]], dtype=[('nombre', 'S10'), ('edad', '<i8')])"
            ]
          },
          "metadata": {},
          "execution_count": 10
        }
      ]
    },
    {
      "cell_type": "code",
      "source": [
        "np.sort(users, order = 'nombre')"
      ],
      "metadata": {
        "colab": {
          "base_uri": "https://localhost:8080/"
        },
        "id": "ZU4c3u4bA5hJ",
        "outputId": "3cef28e3-c414-4d6b-836d-f0e109331e15"
      },
      "execution_count": 11,
      "outputs": [
        {
          "output_type": "execute_result",
          "data": {
            "text/plain": [
              "array([[[[(b'Ana', 29), (b'Juan', 23), (b'Laura', 21), (b'Mario', 29),\n",
              "          (b'Miguel', 22), (b'Pablo', 26), (b'Rocio', 27),\n",
              "          (b'Sofia', 25)],\n",
              "         [(b'Ana', 29), (b'Juan', 23), (b'Laura', 21), (b'Mario', 29),\n",
              "          (b'Miguel', 22), (b'Pablo', 26), (b'Rocio', 27),\n",
              "          (b'Sofia', 25)]]],\n",
              "\n",
              "\n",
              "       [[[(b'Ana', 29), (b'Juan', 23), (b'Laura', 21), (b'Mario', 29),\n",
              "          (b'Miguel', 22), (b'Pablo', 26), (b'Rocio', 27),\n",
              "          (b'Sofia', 25)],\n",
              "         [(b'Ana', 29), (b'Juan', 23), (b'Laura', 21), (b'Mario', 29),\n",
              "          (b'Miguel', 22), (b'Pablo', 26), (b'Rocio', 27),\n",
              "          (b'Sofia', 25)]]]], dtype=[('nombre', 'S10'), ('edad', '<i8')])"
            ]
          },
          "metadata": {},
          "execution_count": 11
        }
      ]
    }
  ]
}